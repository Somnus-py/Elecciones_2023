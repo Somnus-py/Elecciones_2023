{
 "cells": [
  {
   "cell_type": "code",
   "execution_count": 2,
   "metadata": {},
   "outputs": [],
   "source": [
    "import pandas as pd\n",
    "import numpy as np"
   ]
  },
  {
   "cell_type": "code",
   "execution_count": 8,
   "metadata": {},
   "outputs": [],
   "source": [
    "df_contribuciones = pd.read_csv(r\"C:\\Users\\User\\Desktop\\Elecciones 2023\\DEJU__REPORTE_DE_DONACIONES_Y_O_CONTRIBUCIONES.csv\")\n",
    "df_efectivo = pd.read_csv(r\"C:\\Users\\User\\Desktop\\Elecciones 2023\\DEJU__REPORTE_DE_EFECTIVO__DEPOSITO_Y_CUENTAS_A_COBRAR.csv\", low_memory=False)\n",
    "df_prestamos = pd.read_csv(r\"C:\\Users\\User\\Desktop\\Elecciones 2023\\DEJU__REPORTE_DE_PRESTAMOS_CONTRATADOS.csv\")\n",
    "df_digc = pd.read_csv(r\"C:\\Users\\User\\Desktop\\Elecciones 2023\\digc_generales_2024.csv\")\n",
    "df_listas = pd.read_csv(r\"C:\\Users\\User\\Desktop\\Elecciones 2023\\listas-inscriptas-1996-a-2023-mun-y-generales.csv\", encoding='latin1')\n",
    "df_rc_org = pd.read_csv(r\"C:\\Users\\User\\Desktop\\Elecciones 2023\\RC__REPORTE_DE_RENDICIONES_DE_CUENTAS_OPS_MOVS_CANDS.csv\", encoding='latin1', low_memory=False)\n",
    "df_rc_egresos = pd.read_csv(r\"C:\\Users\\User\\Desktop\\Elecciones 2023\\rc_egresos_2024.csv\")\n",
    "df_rc_ingresos = pd.read_csv(r\"C:\\Users\\User\\Desktop\\Elecciones 2023\\rc_ingresos_2023.csv\")\n",
    "df_resultados_2023 = pd.read_csv(r\"C:\\Users\\User\\Desktop\\Elecciones 2023\\resultados-2023-por-local.csv\", encoding='latin1')"
   ]
  },
  {
   "cell_type": "code",
   "execution_count": null,
   "metadata": {},
   "outputs": [],
   "source": []
  }
 ],
 "metadata": {
  "kernelspec": {
   "display_name": "Python 3",
   "language": "python",
   "name": "python3"
  },
  "language_info": {
   "codemirror_mode": {
    "name": "ipython",
    "version": 3
   },
   "file_extension": ".py",
   "mimetype": "text/x-python",
   "name": "python",
   "nbconvert_exporter": "python",
   "pygments_lexer": "ipython3",
   "version": "3.12.4"
  }
 },
 "nbformat": 4,
 "nbformat_minor": 2
}
